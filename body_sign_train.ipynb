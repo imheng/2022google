{
 "cells": [
  {
   "cell_type": "markdown",
   "id": "9ae07674",
   "metadata": {},
   "source": [
    "# Body sign  \n",
    "\n",
    "日常生活中，人们常常使用手势来表达想法。利用机器学习的方法，可以高效、准确、快速地识别人们的手势。  \n",
    "本项目利用TensorFlow编写了可以用来识别手势的模型，通过fine-turning的方法，在MobileNetv2模型的基础上快速生成手势识别模型，取得了非常好的效果。"
   ]
  },
  {
   "cell_type": "markdown",
   "id": "2f361c66",
   "metadata": {},
   "source": [
    "|1|2|\n",
    "|---|---|\n",
    "|<img src=\"./Dataset/1/IMG20200814110405_01.jpg\"/>|<img src=\"Dataset/2/IMG20200814110642_01.jpg\"/>|"
   ]
  },
  {
   "cell_type": "code",
   "execution_count": 1,
   "id": "b2e1f0b0",
   "metadata": {},
   "outputs": [],
   "source": [
    "import os\n",
    "import numpy as np\n",
    "from PIL import Image\n",
    "import matplotlib.pylab as plt\n",
    "import tensorflow as tf\n",
    "import tensorflow_hub as hub\n",
    "from tensorflow.keras import layers,datasets\n",
    "from tensorflow.keras.layers import Flatten\n",
    "from tensorflow.keras.layers import Dense,Activation\n",
    "import math\n",
    "from tensorflow.keras.utils import to_categorical\n",
    "from tensorflow.keras.preprocessing.image import ImageDataGenerator\n",
    "from tensorflow.keras.applications.mobilenet_v2 import preprocess_input"
   ]
  },
  {
   "cell_type": "markdown",
   "id": "e0fce420",
   "metadata": {},
   "source": [
    "## 设计网络  \n",
    "使用预训练的MobileNetV2模型  \n",
    "MobileNetV2模型在imagenet上预训练后可以对图像的语义从低级到高级提取特征。  \n",
    "根据手势识别数据的观察，我们发现这个数据集的图像相对简单，MobileNetV2模型有能力提取这些特征，所以我们直接使用tfhub中保存的预训练的模型。  \n",
    "  \n",
    "以训练好的模型的可训练参数设置为False，这样对于基础模型的各个参数，在训练中不会发生变化。"
   ]
  },
  {
   "attachments": {
    "1_bqE59FvgpvoAQUMQ0WEoUA.webp": {
     "image/webp": "[encoded data removed]"
    }
   },
   "cell_type": "markdown",
   "id": "908cbc1f",
   "metadata": {},
   "source": [
    "<center>\n",
    "\n",
    "    \n",
    "![1_bqE59FvgpvoAQUMQ0WEoUA.webp](attachment:1_bqE59FvgpvoAQUMQ0WEoUA.webp)\n",
    "\n",
    "\n",
    "    </center>"
   ]
  },
  {
   "cell_type": "code",
   "execution_count": 2,
   "id": "af6c61b2",
   "metadata": {
    "scrolled": true
   },
   "outputs": [
    {
     "name": "stderr",
     "output_type": "stream",
     "text": [
      "2023-10-24 15:27:56.120987: I tensorflow/core/platform/cpu_feature_guard.cc:151] This TensorFlow binary is optimized with oneAPI Deep Neural Network Library (oneDNN) to use the following CPU instructions in performance-critical operations:  AVX2 FMA\n",
      "To enable them in other operations, rebuild TensorFlow with the appropriate compiler flags.\n",
      "2023-10-24 15:27:56.998768: I tensorflow/core/common_runtime/gpu/gpu_device.cc:1525] Created device /job:localhost/replica:0/task:0/device:GPU:0 with 10396 MB memory:  -> device: 0, name: NVIDIA GeForce GTX 1080 Ti, pci bus id: 0000:01:00.0, compute capability: 6.1\n",
      "2023-10-24 15:27:56.999303: I tensorflow/core/common_runtime/gpu/gpu_device.cc:1525] Created device /job:localhost/replica:0/task:0/device:GPU:1 with 10410 MB memory:  -> device: 1, name: NVIDIA GeForce GTX 1080 Ti, pci bus id: 0000:02:00.0, compute capability: 6.1\n"
     ]
    }
   ],
   "source": [
    "feature_extractor_url = \"./tf2-preview_mobilenet_v2_feature_vector_4\"\n",
    "# feature_extractor_url = \"https://tfhub.dev/google/tf2-preview/mobilenet_v2/feature_vector/4\"\n",
    "feature_extractor_layer = hub.KerasLayer(feature_extractor_url,input_shape=(224,224,3))\n",
    "# 这一层的训练值保持不变\n",
    "feature_extractor_layer.trainable = False"
   ]
  },
  {
   "cell_type": "markdown",
   "id": "ec92ab36",
   "metadata": {},
   "source": [
    "从Dataset中设定数据预处理。  \n",
    "预处理包括数据的拉伸、变形、旋转和归一化等操作。  \n",
    "通过这些预处理可以让图像变得多元化，这对降低模型的高拟合度非常有好处。"
   ]
  },
  {
   "cell_type": "code",
   "execution_count": 3,
   "id": "bd2267e9",
   "metadata": {},
   "outputs": [],
   "source": [
    "train_datagen = ImageDataGenerator(\n",
    "    preprocessing_function=preprocess_input,\n",
    "    rescale=1./255, \n",
    "    validation_split=0.1,\n",
    "    horizontal_flip=True,\n",
    "    shear_range=0.2,\n",
    "    zoom_range=0.2,\n",
    "    rotation_range=20,\n",
    "    width_shift_range=0.2,\n",
    "    height_shift_range=0.2,\n",
    "    samplewise_center=True,\n",
    "    samplewise_std_normalization=True,\n",
    "    featurewise_center=True,\n",
    "    featurewise_std_normalization=True)"
   ]
  },
  {
   "cell_type": "markdown",
   "id": "a6f36879",
   "metadata": {},
   "source": [
    "训练的周期"
   ]
  },
  {
   "cell_type": "code",
   "execution_count": 4,
   "id": "9146fbca",
   "metadata": {},
   "outputs": [],
   "source": [
    "epochs = 50"
   ]
  },
  {
   "cell_type": "markdown",
   "id": "81679051",
   "metadata": {},
   "source": [
    "每批次训练的样本个数"
   ]
  },
  {
   "cell_type": "code",
   "execution_count": 5,
   "id": "f593beb3",
   "metadata": {},
   "outputs": [],
   "source": [
    "batch_size = 8"
   ]
  },
  {
   "cell_type": "markdown",
   "id": "1b97e17b",
   "metadata": {},
   "source": [
    "数据集文件夹"
   ]
  },
  {
   "cell_type": "code",
   "execution_count": 6,
   "id": "a63c2e8b",
   "metadata": {},
   "outputs": [],
   "source": [
    "train_data_dir = 'Dataset'"
   ]
  },
  {
   "cell_type": "code",
   "execution_count": 7,
   "id": "d9e423bf",
   "metadata": {},
   "outputs": [],
   "source": [
    "img_width,img_height=224,224"
   ]
  },
  {
   "cell_type": "markdown",
   "id": "213b8d2b",
   "metadata": {},
   "source": [
    "从预处理数据中提取训练数据，约占90%"
   ]
  },
  {
   "cell_type": "code",
   "execution_count": 8,
   "id": "d57c006c",
   "metadata": {},
   "outputs": [
    {
     "name": "stdout",
     "output_type": "stream",
     "text": [
      "Found 1023 images belonging to 10 classes.\n"
     ]
    }
   ],
   "source": [
    "train_generator = train_datagen.flow_from_directory(\n",
    "    train_data_dir,\n",
    "    target_size=(img_width,img_height),\n",
    "    batch_size=batch_size,\n",
    "    class_mode='categorical',\n",
    "    shuffle=True,\n",
    "    subset='training'\n",
    ")"
   ]
  },
  {
   "cell_type": "markdown",
   "id": "8dc6a5fd",
   "metadata": {},
   "source": [
    "验证集约占整个数据的10%"
   ]
  },
  {
   "cell_type": "code",
   "execution_count": 9,
   "id": "253e0f9e",
   "metadata": {},
   "outputs": [
    {
     "name": "stdout",
     "output_type": "stream",
     "text": [
      "Found 110 images belonging to 10 classes.\n"
     ]
    }
   ],
   "source": [
    "validation_generator = train_datagen.flow_from_directory(\n",
    "    train_data_dir,\n",
    "    target_size=(img_width,img_height),\n",
    "    batch_size=batch_size,\n",
    "    class_mode='categorical',\n",
    "    shuffle=True,\n",
    "    subset='validation'\n",
    ")"
   ]
  },
  {
   "cell_type": "markdown",
   "id": "f3ad4cf4",
   "metadata": {},
   "source": [
    "提取标签值"
   ]
  },
  {
   "cell_type": "code",
   "execution_count": 10,
   "id": "0930f259",
   "metadata": {},
   "outputs": [
    {
     "data": {
      "text/plain": [
       "{'0': 0,\n",
       " '1': 1,\n",
       " '2': 2,\n",
       " '3': 3,\n",
       " '4': 4,\n",
       " '5': 5,\n",
       " '6': 6,\n",
       " '7': 7,\n",
       " '8': 8,\n",
       " '9': 9}"
      ]
     },
     "execution_count": 10,
     "metadata": {},
     "output_type": "execute_result"
    }
   ],
   "source": [
    "train_labels = train_generator.classes\n",
    "train_labels = to_categorical(train_labels, num_classes=len(train_generator.class_indices))\n",
    "train_generator.class_indices"
   ]
  },
  {
   "cell_type": "markdown",
   "id": "79816877",
   "metadata": {},
   "source": [
    "fine-tuning的核心是在基础模型的顶层增加一些神经网络层，   \n",
    "这样在高级语义方面专门训练模型对手势的认识。  \n",
    "这里再mobilenetv2基础上增加了3个全连接层。  "
   ]
  },
  {
   "cell_type": "code",
   "execution_count": 11,
   "id": "9017fff8",
   "metadata": {},
   "outputs": [],
   "source": [
    "model = tf.keras.Sequential([\n",
    "    feature_extractor_layer,\n",
    "    layers.Dense(512, activation='relu'),\n",
    "    layers.Dropout(0.4),\n",
    "    layers.Dense(128,activation='relu'),\n",
    "    layers.Dropout(0.4),\n",
    "    layers.Dense(10, activation='softmax')\n",
    "])"
   ]
  },
  {
   "cell_type": "markdown",
   "id": "77ebdb0b",
   "metadata": {},
   "source": [
    "设置损失函数，这里使用categorical_crossentropy"
   ]
  },
  {
   "cell_type": "code",
   "execution_count": 12,
   "id": "8a51f4a7",
   "metadata": {},
   "outputs": [
    {
     "name": "stdout",
     "output_type": "stream",
     "text": [
      "Model: \"sequential\"\n",
      "_________________________________________________________________\n",
      " Layer (type)                Output Shape              Param #   \n",
      "=================================================================\n",
      " keras_layer (KerasLayer)    (None, 1280)              2257984   \n",
      "                                                                 \n",
      " dense (Dense)               (None, 512)               655872    \n",
      "                                                                 \n",
      " dropout (Dropout)           (None, 512)               0         \n",
      "                                                                 \n",
      " dense_1 (Dense)             (None, 128)               65664     \n",
      "                                                                 \n",
      " dropout_1 (Dropout)         (None, 128)               0         \n",
      "                                                                 \n",
      " dense_2 (Dense)             (None, 10)                1290      \n",
      "                                                                 \n",
      "=================================================================\n",
      "Total params: 2,980,810\n",
      "Trainable params: 722,826\n",
      "Non-trainable params: 2,257,984\n",
      "_________________________________________________________________\n"
     ]
    }
   ],
   "source": [
    "model.compile(optimizer=tf.keras.optimizers.Adam(),\n",
    "              loss='categorical_crossentropy',\n",
    "              metrics=['accuracy'])\n",
    "model.build([None, 224, 224, 3])\n",
    "model.summary()"
   ]
  },
  {
   "cell_type": "markdown",
   "id": "f246e77f",
   "metadata": {},
   "source": [
    "这里可以指明模型的保存路径  \n",
    "并且利用回调函数，显示地进行模型的保存。"
   ]
  },
  {
   "cell_type": "code",
   "execution_count": 13,
   "id": "2e8938bd",
   "metadata": {},
   "outputs": [],
   "source": [
    "checkpoint_path = \"cp_2023/cp.ckpt\"\n",
    "checkpoint_dir = os.path.dirname(checkpoint_path)\n",
    "cp_callback = tf.keras.callbacks.ModelCheckpoint(filepath=checkpoint_path,\n",
    "                                                 save_weights_only=True,\n",
    "                                                 verbose=1)"
   ]
  },
  {
   "cell_type": "code",
   "execution_count": 14,
   "id": "09998f30",
   "metadata": {},
   "outputs": [],
   "source": [
    "n_train_images = train_generator.n\n",
    "n_val_images = validation_generator.n\n",
    "nb_steps_per_epoch = int(n_train_images/batch_size)\n",
    "validation_steps = int(n_val_images/batch_size)"
   ]
  },
  {
   "cell_type": "markdown",
   "id": "c225addf",
   "metadata": {},
   "source": [
    "## 训练模型  \n",
    "workers一般设置为系统能够使用线程数量，比如本机的CPU为12线程，这里就设置为12"
   ]
  },
  {
   "cell_type": "code",
   "execution_count": 15,
   "id": "cf6532bd",
   "metadata": {},
   "outputs": [
    {
     "name": "stdout",
     "output_type": "stream",
     "text": [
      "Epoch 1/50\n"
     ]
    },
    {
     "name": "stderr",
     "output_type": "stream",
     "text": [
      "/home/heng/anaconda3/envs/tf/lib/python3.9/site-packages/keras_preprocessing/image/image_data_generator.py:720: UserWarning: This ImageDataGenerator specifies `featurewise_center`, but it hasn't been fit on any training data. Fit it first by calling `.fit(numpy_data)`.\n",
      "  warnings.warn('This ImageDataGenerator specifies '\n",
      "/home/heng/anaconda3/envs/tf/lib/python3.9/site-packages/keras_preprocessing/image/image_data_generator.py:728: UserWarning: This ImageDataGenerator specifies `featurewise_std_normalization`, but it hasn't been fit on any training data. Fit it first by calling `.fit(numpy_data)`.\n",
      "  warnings.warn('This ImageDataGenerator specifies '\n",
      "2023-10-24 15:30:25.425868: I tensorflow/stream_executor/cuda/cuda_dnn.cc:368] Loaded cuDNN version 8201\n",
      "2023-10-24 15:30:25.642407: I tensorflow/core/platform/default/subprocess.cc:304] Start cannot spawn child process: No such file or directory\n"
     ]
    },
    {
     "name": "stdout",
     "output_type": "stream",
     "text": [
      "128/128 [==============================] - ETA: 0s - loss: 1.2710 - accuracy: 0.5699\n",
      "Epoch 1: saving model to cp_2023/cp.ckpt\n",
      "128/128 [==============================] - 7s 27ms/step - loss: 1.2710 - accuracy: 0.5699 - val_loss: 0.5120 - val_accuracy: 0.7636\n",
      "Epoch 2/50\n",
      "126/128 [============================>.] - ETA: 0s - loss: 0.4749 - accuracy: 0.8272\n",
      "Epoch 2: saving model to cp_2023/cp.ckpt\n",
      "128/128 [==============================] - 3s 21ms/step - loss: 0.4721 - accuracy: 0.8289 - val_loss: 0.3338 - val_accuracy: 0.8182\n",
      "Epoch 3/50\n",
      "125/128 [============================>.] - ETA: 0s - loss: 0.3151 - accuracy: 0.8859\n",
      "Epoch 3: saving model to cp_2023/cp.ckpt\n",
      "128/128 [==============================] - 3s 21ms/step - loss: 0.3160 - accuracy: 0.8837 - val_loss: 0.2025 - val_accuracy: 0.9000\n",
      "Epoch 4/50\n",
      "128/128 [==============================] - ETA: 0s - loss: 0.2183 - accuracy: 0.9150\n",
      "Epoch 4: saving model to cp_2023/cp.ckpt\n",
      "128/128 [==============================] - 3s 21ms/step - loss: 0.2183 - accuracy: 0.9150 - val_loss: 0.1294 - val_accuracy: 0.9545\n",
      "Epoch 5/50\n",
      "126/128 [============================>.] - ETA: 0s - loss: 0.1748 - accuracy: 0.9434\n",
      "Epoch 5: saving model to cp_2023/cp.ckpt\n",
      "128/128 [==============================] - 3s 21ms/step - loss: 0.1748 - accuracy: 0.9433 - val_loss: 0.1671 - val_accuracy: 0.9636\n",
      "Epoch 6/50\n",
      "126/128 [============================>.] - ETA: 0s - loss: 0.1901 - accuracy: 0.9275\n",
      "Epoch 6: saving model to cp_2023/cp.ckpt\n",
      "128/128 [==============================] - 3s 21ms/step - loss: 0.1886 - accuracy: 0.9277 - val_loss: 0.1793 - val_accuracy: 0.9364\n",
      "Epoch 7/50\n",
      "127/128 [============================>.] - ETA: 0s - loss: 0.1110 - accuracy: 0.9616\n",
      "Epoch 7: saving model to cp_2023/cp.ckpt\n",
      "128/128 [==============================] - 3s 22ms/step - loss: 0.1102 - accuracy: 0.9619 - val_loss: 0.0634 - val_accuracy: 0.9727\n",
      "Epoch 8/50\n",
      "127/128 [============================>.] - ETA: 0s - loss: 0.1188 - accuracy: 0.9606\n",
      "Epoch 8: saving model to cp_2023/cp.ckpt\n",
      "128/128 [==============================] - 3s 21ms/step - loss: 0.1180 - accuracy: 0.9609 - val_loss: 0.0493 - val_accuracy: 0.9818\n",
      "Epoch 9/50\n",
      "124/128 [============================>.] - ETA: 0s - loss: 0.1180 - accuracy: 0.9606\n",
      "Epoch 9: saving model to cp_2023/cp.ckpt\n",
      "128/128 [==============================] - 3s 21ms/step - loss: 0.1154 - accuracy: 0.9619 - val_loss: 0.2572 - val_accuracy: 0.9273\n",
      "Epoch 10/50\n",
      "126/128 [============================>.] - ETA: 0s - loss: 0.1196 - accuracy: 0.9583\n",
      "Epoch 10: saving model to cp_2023/cp.ckpt\n",
      "128/128 [==============================] - 3s 21ms/step - loss: 0.1222 - accuracy: 0.9580 - val_loss: 0.0875 - val_accuracy: 0.9636\n",
      "Epoch 11/50\n",
      "126/128 [============================>.] - ETA: 0s - loss: 0.1082 - accuracy: 0.9652\n",
      "Epoch 11: saving model to cp_2023/cp.ckpt\n",
      "128/128 [==============================] - 3s 21ms/step - loss: 0.1067 - accuracy: 0.9658 - val_loss: 0.0523 - val_accuracy: 0.9727\n",
      "Epoch 12/50\n",
      "124/128 [============================>.] - ETA: 0s - loss: 0.0960 - accuracy: 0.9677\n",
      "Epoch 12: saving model to cp_2023/cp.ckpt\n",
      "128/128 [==============================] - 3s 23ms/step - loss: 0.1008 - accuracy: 0.9668 - val_loss: 0.0514 - val_accuracy: 0.9909\n",
      "Epoch 13/50\n",
      "125/128 [============================>.] - ETA: 0s - loss: 0.1058 - accuracy: 0.9620\n",
      "Epoch 13: saving model to cp_2023/cp.ckpt\n",
      "128/128 [==============================] - 3s 21ms/step - loss: 0.1036 - accuracy: 0.9629 - val_loss: 0.0295 - val_accuracy: 0.9909\n",
      "Epoch 14/50\n",
      "125/128 [============================>.] - ETA: 0s - loss: 0.0617 - accuracy: 0.9820\n",
      "Epoch 14: saving model to cp_2023/cp.ckpt\n",
      "128/128 [==============================] - 3s 21ms/step - loss: 0.0641 - accuracy: 0.9814 - val_loss: 0.0201 - val_accuracy: 0.9909\n",
      "Epoch 15/50\n",
      "127/128 [============================>.] - ETA: 0s - loss: 0.0717 - accuracy: 0.9773\n",
      "Epoch 15: saving model to cp_2023/cp.ckpt\n",
      "128/128 [==============================] - 3s 21ms/step - loss: 0.0713 - accuracy: 0.9775 - val_loss: 0.0249 - val_accuracy: 0.9909\n",
      "Epoch 16/50\n",
      "124/128 [============================>.] - ETA: 0s - loss: 0.0894 - accuracy: 0.9677\n",
      "Epoch 16: saving model to cp_2023/cp.ckpt\n",
      "128/128 [==============================] - 3s 21ms/step - loss: 0.0899 - accuracy: 0.9677 - val_loss: 0.0749 - val_accuracy: 0.9727\n",
      "Epoch 17/50\n",
      "128/128 [==============================] - ETA: 0s - loss: 0.1459 - accuracy: 0.9521\n",
      "Epoch 17: saving model to cp_2023/cp.ckpt\n",
      "128/128 [==============================] - 3s 21ms/step - loss: 0.1459 - accuracy: 0.9521 - val_loss: 0.0163 - val_accuracy: 1.0000\n",
      "Epoch 18/50\n",
      "126/128 [============================>.] - ETA: 0s - loss: 0.0882 - accuracy: 0.9682\n",
      "Epoch 18: saving model to cp_2023/cp.ckpt\n",
      "128/128 [==============================] - 3s 21ms/step - loss: 0.0869 - accuracy: 0.9687 - val_loss: 0.0962 - val_accuracy: 0.9636\n",
      "Epoch 19/50\n",
      "127/128 [============================>.] - ETA: 0s - loss: 0.0943 - accuracy: 0.9714\n",
      "Epoch 19: saving model to cp_2023/cp.ckpt\n",
      "128/128 [==============================] - 3s 21ms/step - loss: 0.0939 - accuracy: 0.9717 - val_loss: 0.0293 - val_accuracy: 0.9909\n",
      "Epoch 20/50\n",
      "126/128 [============================>.] - ETA: 0s - loss: 0.0668 - accuracy: 0.9821\n",
      "Epoch 20: saving model to cp_2023/cp.ckpt\n",
      "128/128 [==============================] - 3s 21ms/step - loss: 0.0658 - accuracy: 0.9824 - val_loss: 0.0534 - val_accuracy: 0.9818\n",
      "Epoch 21/50\n",
      "124/128 [============================>.] - ETA: 0s - loss: 0.1037 - accuracy: 0.9677\n",
      "Epoch 21: saving model to cp_2023/cp.ckpt\n",
      "128/128 [==============================] - 3s 21ms/step - loss: 0.1005 - accuracy: 0.9687 - val_loss: 0.0129 - val_accuracy: 1.0000\n",
      "Epoch 22/50\n",
      "127/128 [============================>.] - ETA: 0s - loss: 0.0542 - accuracy: 0.9823\n",
      "Epoch 22: saving model to cp_2023/cp.ckpt\n",
      "128/128 [==============================] - 3s 21ms/step - loss: 0.0538 - accuracy: 0.9824 - val_loss: 0.0195 - val_accuracy: 1.0000\n",
      "Epoch 23/50\n",
      "126/128 [============================>.] - ETA: 0s - loss: 0.0680 - accuracy: 0.9742\n",
      "Epoch 23: saving model to cp_2023/cp.ckpt\n",
      "128/128 [==============================] - 3s 21ms/step - loss: 0.0681 - accuracy: 0.9736 - val_loss: 0.0402 - val_accuracy: 0.9818\n",
      "Epoch 24/50\n",
      "124/128 [============================>.] - ETA: 0s - loss: 0.0385 - accuracy: 0.9849\n",
      "Epoch 24: saving model to cp_2023/cp.ckpt\n",
      "128/128 [==============================] - 3s 21ms/step - loss: 0.0378 - accuracy: 0.9853 - val_loss: 0.0198 - val_accuracy: 1.0000\n",
      "Epoch 25/50\n",
      "126/128 [============================>.] - ETA: 0s - loss: 0.0207 - accuracy: 0.9921\n",
      "Epoch 25: saving model to cp_2023/cp.ckpt\n",
      "128/128 [==============================] - 3s 21ms/step - loss: 0.0209 - accuracy: 0.9922 - val_loss: 0.0102 - val_accuracy: 0.9909\n",
      "Epoch 26/50\n",
      "127/128 [============================>.] - ETA: 0s - loss: 0.0462 - accuracy: 0.9852\n",
      "Epoch 26: saving model to cp_2023/cp.ckpt\n",
      "128/128 [==============================] - 3s 21ms/step - loss: 0.0458 - accuracy: 0.9853 - val_loss: 0.0472 - val_accuracy: 0.9818\n",
      "Epoch 27/50\n",
      "125/128 [============================>.] - ETA: 0s - loss: 0.0629 - accuracy: 0.9750\n",
      "Epoch 27: saving model to cp_2023/cp.ckpt\n",
      "128/128 [==============================] - 3s 21ms/step - loss: 0.0615 - accuracy: 0.9756 - val_loss: 0.0376 - val_accuracy: 0.9727\n",
      "Epoch 28/50\n",
      "128/128 [==============================] - ETA: 0s - loss: 0.0959 - accuracy: 0.9648\n",
      "Epoch 28: saving model to cp_2023/cp.ckpt\n",
      "128/128 [==============================] - 3s 21ms/step - loss: 0.0959 - accuracy: 0.9648 - val_loss: 0.1287 - val_accuracy: 0.9636\n",
      "Epoch 29/50\n",
      "127/128 [============================>.] - ETA: 0s - loss: 0.0705 - accuracy: 0.9803\n",
      "Epoch 29: saving model to cp_2023/cp.ckpt\n",
      "128/128 [==============================] - 3s 21ms/step - loss: 0.0700 - accuracy: 0.9804 - val_loss: 0.0595 - val_accuracy: 0.9818\n",
      "Epoch 30/50\n",
      "124/128 [============================>.] - ETA: 0s - loss: 0.0352 - accuracy: 0.9899\n",
      "Epoch 30: saving model to cp_2023/cp.ckpt\n",
      "128/128 [==============================] - 3s 21ms/step - loss: 0.0351 - accuracy: 0.9892 - val_loss: 0.0066 - val_accuracy: 1.0000\n",
      "Epoch 31/50\n",
      "128/128 [==============================] - ETA: 0s - loss: 0.0347 - accuracy: 0.9912\n",
      "Epoch 31: saving model to cp_2023/cp.ckpt\n",
      "128/128 [==============================] - 3s 21ms/step - loss: 0.0347 - accuracy: 0.9912 - val_loss: 0.0164 - val_accuracy: 1.0000\n",
      "Epoch 32/50\n",
      "126/128 [============================>.] - ETA: 0s - loss: 0.0444 - accuracy: 0.9831\n",
      "Epoch 32: saving model to cp_2023/cp.ckpt\n",
      "128/128 [==============================] - 3s 21ms/step - loss: 0.0455 - accuracy: 0.9824 - val_loss: 0.0060 - val_accuracy: 1.0000\n",
      "Epoch 33/50\n",
      "126/128 [============================>.] - ETA: 0s - loss: 0.0926 - accuracy: 0.9772\n",
      "Epoch 33: saving model to cp_2023/cp.ckpt\n",
      "128/128 [==============================] - 3s 21ms/step - loss: 0.0919 - accuracy: 0.9775 - val_loss: 0.0210 - val_accuracy: 0.9909\n",
      "Epoch 34/50\n",
      "125/128 [============================>.] - ETA: 0s - loss: 0.0547 - accuracy: 0.9830\n",
      "Epoch 34: saving model to cp_2023/cp.ckpt\n",
      "128/128 [==============================] - 3s 22ms/step - loss: 0.0543 - accuracy: 0.9824 - val_loss: 0.0221 - val_accuracy: 0.9909\n",
      "Epoch 35/50\n",
      "128/128 [==============================] - ETA: 0s - loss: 0.0677 - accuracy: 0.9804\n",
      "Epoch 35: saving model to cp_2023/cp.ckpt\n",
      "128/128 [==============================] - 3s 21ms/step - loss: 0.0677 - accuracy: 0.9804 - val_loss: 0.1244 - val_accuracy: 0.9545\n",
      "Epoch 36/50\n",
      "126/128 [============================>.] - ETA: 0s - loss: 0.1225 - accuracy: 0.9643\n",
      "Epoch 36: saving model to cp_2023/cp.ckpt\n",
      "128/128 [==============================] - 3s 22ms/step - loss: 0.1234 - accuracy: 0.9629 - val_loss: 0.0757 - val_accuracy: 0.9818\n",
      "Epoch 37/50\n",
      "128/128 [==============================] - ETA: 0s - loss: 0.0758 - accuracy: 0.9765\n",
      "Epoch 37: saving model to cp_2023/cp.ckpt\n",
      "128/128 [==============================] - 3s 21ms/step - loss: 0.0758 - accuracy: 0.9765 - val_loss: 0.0576 - val_accuracy: 0.9636\n",
      "Epoch 38/50\n",
      "125/128 [============================>.] - ETA: 0s - loss: 0.0497 - accuracy: 0.9830\n",
      "Epoch 38: saving model to cp_2023/cp.ckpt\n",
      "128/128 [==============================] - 3s 21ms/step - loss: 0.0494 - accuracy: 0.9834 - val_loss: 0.0263 - val_accuracy: 0.9818\n",
      "Epoch 39/50\n",
      "124/128 [============================>.] - ETA: 0s - loss: 0.0421 - accuracy: 0.9859\n",
      "Epoch 39: saving model to cp_2023/cp.ckpt\n",
      "128/128 [==============================] - 3s 21ms/step - loss: 0.0409 - accuracy: 0.9863 - val_loss: 0.0231 - val_accuracy: 1.0000\n",
      "Epoch 40/50\n",
      "128/128 [==============================] - ETA: 0s - loss: 0.0426 - accuracy: 0.9863\n",
      "Epoch 40: saving model to cp_2023/cp.ckpt\n",
      "128/128 [==============================] - 3s 22ms/step - loss: 0.0426 - accuracy: 0.9863 - val_loss: 0.0481 - val_accuracy: 0.9636\n",
      "Epoch 41/50\n",
      "128/128 [==============================] - ETA: 0s - loss: 0.0292 - accuracy: 0.9873\n",
      "Epoch 41: saving model to cp_2023/cp.ckpt\n",
      "128/128 [==============================] - 3s 22ms/step - loss: 0.0292 - accuracy: 0.9873 - val_loss: 0.0200 - val_accuracy: 0.9909\n",
      "Epoch 42/50\n",
      "128/128 [==============================] - ETA: 0s - loss: 0.0224 - accuracy: 0.9941\n",
      "Epoch 42: saving model to cp_2023/cp.ckpt\n",
      "128/128 [==============================] - 3s 21ms/step - loss: 0.0224 - accuracy: 0.9941 - val_loss: 0.0350 - val_accuracy: 0.9909\n",
      "Epoch 43/50\n",
      "126/128 [============================>.] - ETA: 0s - loss: 0.0574 - accuracy: 0.9841\n",
      "Epoch 43: saving model to cp_2023/cp.ckpt\n",
      "128/128 [==============================] - 3s 21ms/step - loss: 0.0565 - accuracy: 0.9844 - val_loss: 0.0201 - val_accuracy: 0.9909\n",
      "Epoch 44/50\n",
      "128/128 [==============================] - ETA: 0s - loss: 0.0392 - accuracy: 0.9873\n",
      "Epoch 44: saving model to cp_2023/cp.ckpt\n",
      "128/128 [==============================] - 3s 22ms/step - loss: 0.0392 - accuracy: 0.9873 - val_loss: 0.0047 - val_accuracy: 1.0000\n",
      "Epoch 45/50\n",
      "127/128 [============================>.] - ETA: 0s - loss: 0.0392 - accuracy: 0.9862\n",
      "Epoch 45: saving model to cp_2023/cp.ckpt\n",
      "128/128 [==============================] - 3s 22ms/step - loss: 0.0389 - accuracy: 0.9863 - val_loss: 0.0018 - val_accuracy: 1.0000\n",
      "Epoch 46/50\n",
      "125/128 [============================>.] - ETA: 0s - loss: 0.0779 - accuracy: 0.9750\n",
      "Epoch 46: saving model to cp_2023/cp.ckpt\n",
      "128/128 [==============================] - 3s 21ms/step - loss: 0.0766 - accuracy: 0.9756 - val_loss: 0.0087 - val_accuracy: 1.0000\n",
      "Epoch 47/50\n",
      "127/128 [============================>.] - ETA: 0s - loss: 0.0657 - accuracy: 0.9773\n",
      "Epoch 47: saving model to cp_2023/cp.ckpt\n",
      "128/128 [==============================] - 3s 21ms/step - loss: 0.0653 - accuracy: 0.9775 - val_loss: 0.0080 - val_accuracy: 1.0000\n",
      "Epoch 48/50\n",
      "125/128 [============================>.] - ETA: 0s - loss: 0.0854 - accuracy: 0.9710\n",
      "Epoch 48: saving model to cp_2023/cp.ckpt\n",
      "128/128 [==============================] - 3s 22ms/step - loss: 0.0875 - accuracy: 0.9707 - val_loss: 0.0072 - val_accuracy: 1.0000\n",
      "Epoch 49/50\n",
      "128/128 [==============================] - ETA: 0s - loss: 0.0563 - accuracy: 0.9863\n",
      "Epoch 49: saving model to cp_2023/cp.ckpt\n",
      "128/128 [==============================] - 3s 21ms/step - loss: 0.0563 - accuracy: 0.9863 - val_loss: 0.0081 - val_accuracy: 1.0000\n",
      "Epoch 50/50\n",
      "125/128 [============================>.] - ETA: 0s - loss: 0.0349 - accuracy: 0.9870\n",
      "Epoch 50: saving model to cp_2023/cp.ckpt\n",
      "128/128 [==============================] - 3s 22ms/step - loss: 0.0349 - accuracy: 0.9863 - val_loss: 0.0517 - val_accuracy: 0.9818\n"
     ]
    }
   ],
   "source": [
    "history = model.fit(\n",
    "    train_generator,\n",
    "    # shuffle=True,\n",
    "    workers= 12,\n",
    "    epochs = epoch,\n",
    "    validation_data = validation_generator,\n",
    "    callbacks=[cp_callback]\n",
    "    )"
   ]
  },
  {
   "cell_type": "markdown",
   "id": "fb74d3d4",
   "metadata": {},
   "source": [
    "保存训练过程中每个阶段的值，用来统计分析"
   ]
  },
  {
   "cell_type": "code",
   "execution_count": 16,
   "id": "6ddd06ef",
   "metadata": {},
   "outputs": [],
   "source": [
    "import pickle\n",
    "with open('cp_2023/mbv2.history.pickle', 'wb') as f:\n",
    "    pickle.dump(history.history, f)"
   ]
  },
  {
   "cell_type": "markdown",
   "id": "9349515f",
   "metadata": {},
   "source": [
    "将最终的模型保存为h5格式。  \n",
    "训练好的模型有多种保存格式，h5格式只是其中的一种，可以根据使用选择格式"
   ]
  },
  {
   "cell_type": "code",
   "execution_count": 17,
   "id": "faf6e8d9",
   "metadata": {},
   "outputs": [],
   "source": [
    "model.save('cp_2023/mbv2.h5')"
   ]
  },
  {
   "cell_type": "markdown",
   "id": "c1f8bea3",
   "metadata": {},
   "source": [
    "这里尝试将模型保存为tensorflow lite格式  \n",
    "TensorFlow lite对于移动应用友好，可以将这个应用移植到手机上。"
   ]
  },
  {
   "cell_type": "code",
   "execution_count": 18,
   "id": "6718e5f5",
   "metadata": {},
   "outputs": [
    {
     "name": "stderr",
     "output_type": "stream",
     "text": [
      "2023-10-24 15:33:49.616802: W tensorflow/python/util/util.cc:368] Sets are not currently considered sequences, but this may change in the future, so consider avoiding using them.\n"
     ]
    },
    {
     "name": "stdout",
     "output_type": "stream",
     "text": [
      "INFO:tensorflow:Assets written to: /tmp/tmp6e45dhty/assets\n"
     ]
    },
    {
     "name": "stderr",
     "output_type": "stream",
     "text": [
      "2023-10-24 15:33:56.967311: W tensorflow/compiler/mlir/lite/python/tf_tfl_flatbuffer_helpers.cc:357] Ignored output_format.\n",
      "2023-10-24 15:33:56.967346: W tensorflow/compiler/mlir/lite/python/tf_tfl_flatbuffer_helpers.cc:360] Ignored drop_control_dependency.\n",
      "2023-10-24 15:33:56.968026: I tensorflow/cc/saved_model/reader.cc:43] Reading SavedModel from: /tmp/tmp6e45dhty\n",
      "2023-10-24 15:33:56.980275: I tensorflow/cc/saved_model/reader.cc:78] Reading meta graph with tags { serve }\n",
      "2023-10-24 15:33:56.980299: I tensorflow/cc/saved_model/reader.cc:119] Reading SavedModel debug info (if present) from: /tmp/tmp6e45dhty\n",
      "2023-10-24 15:33:57.035287: I tensorflow/cc/saved_model/loader.cc:228] Restoring SavedModel bundle.\n",
      "2023-10-24 15:33:57.440506: I tensorflow/cc/saved_model/loader.cc:212] Running initialization op on SavedModel bundle at path: /tmp/tmp6e45dhty\n",
      "2023-10-24 15:33:57.605573: I tensorflow/cc/saved_model/loader.cc:301] SavedModel load for tags { serve }; Status: success: OK. Took 637549 microseconds.\n",
      "2023-10-24 15:33:57.855052: I tensorflow/compiler/mlir/tensorflow/utils/dump_mlir_util.cc:237] disabling MLIR crash reproducer, set env var `MLIR_CRASH_REPRODUCER_DIRECTORY` to enable.\n"
     ]
    },
    {
     "data": {
      "text/plain": [
       "11759484"
      ]
     },
     "execution_count": 18,
     "metadata": {},
     "output_type": "execute_result"
    }
   ],
   "source": [
    "converter = tf.lite.TFLiteConverter.from_keras_model(model)\n",
    "tflite_model = converter.convert()\n",
    "open(\"cp_2023/float_mbv2.tflite\", \"wb\").write(tflite_model)"
   ]
  },
  {
   "cell_type": "markdown",
   "id": "c1aade02",
   "metadata": {},
   "source": [
    "尝试对模型进一步进行压缩，这样有助于在手机等边界设备上运行。"
   ]
  },
  {
   "cell_type": "code",
   "execution_count": 19,
   "id": "7583bffc",
   "metadata": {},
   "outputs": [
    {
     "name": "stdout",
     "output_type": "stream",
     "text": [
      "INFO:tensorflow:Assets written to: /tmp/tmpk_9a3jes/assets\n"
     ]
    },
    {
     "name": "stderr",
     "output_type": "stream",
     "text": [
      "INFO:tensorflow:Assets written to: /tmp/tmpk_9a3jes/assets\n",
      "2023-10-24 15:34:26.907153: W tensorflow/compiler/mlir/lite/python/tf_tfl_flatbuffer_helpers.cc:357] Ignored output_format.\n",
      "2023-10-24 15:34:26.907189: W tensorflow/compiler/mlir/lite/python/tf_tfl_flatbuffer_helpers.cc:360] Ignored drop_control_dependency.\n",
      "2023-10-24 15:34:26.907381: I tensorflow/cc/saved_model/reader.cc:43] Reading SavedModel from: /tmp/tmpk_9a3jes\n",
      "2023-10-24 15:34:26.919614: I tensorflow/cc/saved_model/reader.cc:78] Reading meta graph with tags { serve }\n",
      "2023-10-24 15:34:26.919641: I tensorflow/cc/saved_model/reader.cc:119] Reading SavedModel debug info (if present) from: /tmp/tmpk_9a3jes\n",
      "2023-10-24 15:34:26.976013: I tensorflow/cc/saved_model/loader.cc:228] Restoring SavedModel bundle.\n",
      "2023-10-24 15:34:27.383056: I tensorflow/cc/saved_model/loader.cc:212] Running initialization op on SavedModel bundle at path: /tmp/tmpk_9a3jes\n",
      "2023-10-24 15:34:27.551381: I tensorflow/cc/saved_model/loader.cc:301] SavedModel load for tags { serve }; Status: success: OK. Took 643995 microseconds.\n"
     ]
    },
    {
     "data": {
      "text/plain": [
       "11759484"
      ]
     },
     "execution_count": 19,
     "metadata": {},
     "output_type": "execute_result"
    }
   ],
   "source": [
    "converter = tf.lite.TFLiteConverter.from_keras_model(model)\n",
    "converter.post_training_quantize = True\n",
    "tflite_quantized_model = converter.convert()\n",
    "open(\"cp_2023/quantized_mbv2.tflite\", \"wb\").write(tflite_quantized_model)"
   ]
  },
  {
   "cell_type": "code",
   "execution_count": null,
   "id": "1c368ffb",
   "metadata": {},
   "outputs": [],
   "source": []
  }
 ],
 "metadata": {
  "kernelspec": {
   "display_name": "Python [conda env:tf]",
   "language": "python",
   "name": "conda-env-tf-py"
  },
  "language_info": {
   "codemirror_mode": {
    "name": "ipython",
    "version": 3
   },
   "file_extension": ".py",
   "mimetype": "text/x-python",
   "name": "python",
   "nbconvert_exporter": "python",
   "pygments_lexer": "ipython3",
   "version": "3.9.18"
  },
  "toc": {
   "base_numbering": 1,
   "nav_menu": {},
   "number_sections": true,
   "sideBar": true,
   "skip_h1_title": false,
   "title_cell": "Table of Contents",
   "title_sidebar": "Contents",
   "toc_cell": false,
   "toc_position": {},
   "toc_section_display": true,
   "toc_window_display": false
  }
 },
 "nbformat": 4,
 "nbformat_minor": 5
}
